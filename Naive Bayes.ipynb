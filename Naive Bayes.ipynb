{
  "cells": [
    {
      "cell_type": "code",
      "source": [
        "import numpy as np\n",
        "import matplotlib.pyplot as plt\n",
        "import pandas as pd"
      ],
      "metadata": {
        "id": "4LfLwKN6PJ_g"
      },
      "execution_count": 11,
      "outputs": []
    },
    {
      "cell_type": "code",
      "source": [
        "dataset = pd.read_csv(\"Mall Customer Segmentation data.csv\")\n",
        "X = dataset.iloc[:, [2,3]].values\n",
        "y = dataset.iloc[:, 1].values"
      ],
      "metadata": {
        "id": "ckNI5j1qPVvn"
      },
      "execution_count": 18,
      "outputs": []
    },
    {
      "cell_type": "code",
      "source": [
        "y"
      ],
      "metadata": {
        "colab": {
          "base_uri": "https://localhost:8080/"
        },
        "id": "QX8hDRaRP4ZW",
        "outputId": "bc1355e1-ef4c-4b17-ed89-aa20800abbc4"
      },
      "execution_count": 14,
      "outputs": [
        {
          "output_type": "execute_result",
          "data": {
            "text/plain": [
              "array([1, 1, 0, 0, 0, 0, 0, 0, 1, 0, 1, 0, 0, 0, 1, 1, 0, 1, 1, 0, 1, 1,\n",
              "       0, 1, 0, 1, 0, 1, 0, 0, 1, 0, 1, 1, 0, 0, 0, 0, 0, 0, 0, 1, 1, 0,\n",
              "       0, 0, 0, 0, 0, 0, 0, 1, 0, 1, 0, 1, 0, 1, 0, 1, 1, 1, 0, 0, 1, 1,\n",
              "       0, 0, 1, 0, 1, 0, 0, 0, 1, 1, 0, 1, 0, 0, 1, 1, 1, 0, 0, 1, 0, 0,\n",
              "       0, 0, 0, 1, 1, 0, 0, 1, 0, 0, 1, 1, 0, 0, 1, 1, 1, 0, 0, 1, 1, 1,\n",
              "       1, 0, 0, 1, 0, 0, 0, 0, 0, 0, 1, 0, 0, 1, 0, 0, 1, 1, 1, 1, 1, 1,\n",
              "       0, 0, 1, 0, 0, 1, 1, 0, 0, 1, 0, 0, 1, 1, 1, 0, 0, 1, 1, 1, 0, 0,\n",
              "       0, 0, 1, 0, 1, 0, 0, 0, 1, 0, 1, 0, 1, 0, 0, 1, 1, 1, 1, 1, 0, 0,\n",
              "       1, 1, 1, 1, 0, 0, 1, 0, 0, 1, 0, 1, 0, 0, 0, 0, 1, 0, 0, 0, 0, 1,\n",
              "       1, 1])"
            ]
          },
          "metadata": {},
          "execution_count": 14
        }
      ]
    },
    {
      "cell_type": "code",
      "source": [
        "X"
      ],
      "metadata": {
        "colab": {
          "base_uri": "https://localhost:8080/"
        },
        "id": "q3KJacGNP6vm",
        "outputId": "c389c4e6-ec25-4e1e-ded7-a459975e3756"
      },
      "execution_count": 19,
      "outputs": [
        {
          "output_type": "execute_result",
          "data": {
            "text/plain": [
              "array([[ 19,  15],\n",
              "       [ 21,  15],\n",
              "       [ 20,  16],\n",
              "       [ 23,  16],\n",
              "       [ 31,  17],\n",
              "       [ 22,  17],\n",
              "       [ 35,  18],\n",
              "       [ 23,  18],\n",
              "       [ 64,  19],\n",
              "       [ 30,  19],\n",
              "       [ 67,  19],\n",
              "       [ 35,  19],\n",
              "       [ 58,  20],\n",
              "       [ 24,  20],\n",
              "       [ 37,  20],\n",
              "       [ 22,  20],\n",
              "       [ 35,  21],\n",
              "       [ 20,  21],\n",
              "       [ 52,  23],\n",
              "       [ 35,  23],\n",
              "       [ 35,  24],\n",
              "       [ 25,  24],\n",
              "       [ 46,  25],\n",
              "       [ 31,  25],\n",
              "       [ 54,  28],\n",
              "       [ 29,  28],\n",
              "       [ 45,  28],\n",
              "       [ 35,  28],\n",
              "       [ 40,  29],\n",
              "       [ 23,  29],\n",
              "       [ 60,  30],\n",
              "       [ 21,  30],\n",
              "       [ 53,  33],\n",
              "       [ 18,  33],\n",
              "       [ 49,  33],\n",
              "       [ 21,  33],\n",
              "       [ 42,  34],\n",
              "       [ 30,  34],\n",
              "       [ 36,  37],\n",
              "       [ 20,  37],\n",
              "       [ 65,  38],\n",
              "       [ 24,  38],\n",
              "       [ 48,  39],\n",
              "       [ 31,  39],\n",
              "       [ 49,  39],\n",
              "       [ 24,  39],\n",
              "       [ 50,  40],\n",
              "       [ 27,  40],\n",
              "       [ 29,  40],\n",
              "       [ 31,  40],\n",
              "       [ 49,  42],\n",
              "       [ 33,  42],\n",
              "       [ 31,  43],\n",
              "       [ 59,  43],\n",
              "       [ 50,  43],\n",
              "       [ 47,  43],\n",
              "       [ 51,  44],\n",
              "       [ 69,  44],\n",
              "       [ 27,  46],\n",
              "       [ 53,  46],\n",
              "       [ 70,  46],\n",
              "       [ 19,  46],\n",
              "       [ 67,  47],\n",
              "       [ 54,  47],\n",
              "       [ 63,  48],\n",
              "       [ 18,  48],\n",
              "       [ 43,  48],\n",
              "       [ 68,  48],\n",
              "       [ 19,  48],\n",
              "       [ 32,  48],\n",
              "       [ 70,  49],\n",
              "       [ 47,  49],\n",
              "       [ 60,  50],\n",
              "       [ 60,  50],\n",
              "       [ 59,  54],\n",
              "       [ 26,  54],\n",
              "       [ 45,  54],\n",
              "       [ 40,  54],\n",
              "       [ 23,  54],\n",
              "       [ 49,  54],\n",
              "       [ 57,  54],\n",
              "       [ 38,  54],\n",
              "       [ 67,  54],\n",
              "       [ 46,  54],\n",
              "       [ 21,  54],\n",
              "       [ 48,  54],\n",
              "       [ 55,  57],\n",
              "       [ 22,  57],\n",
              "       [ 34,  58],\n",
              "       [ 50,  58],\n",
              "       [ 68,  59],\n",
              "       [ 18,  59],\n",
              "       [ 48,  60],\n",
              "       [ 40,  60],\n",
              "       [ 32,  60],\n",
              "       [ 24,  60],\n",
              "       [ 47,  60],\n",
              "       [ 27,  60],\n",
              "       [ 48,  61],\n",
              "       [ 20,  61],\n",
              "       [ 23,  62],\n",
              "       [ 49,  62],\n",
              "       [ 67,  62],\n",
              "       [ 26,  62],\n",
              "       [ 49,  62],\n",
              "       [ 21,  62],\n",
              "       [ 66,  63],\n",
              "       [ 54,  63],\n",
              "       [ 68,  63],\n",
              "       [ 66,  63],\n",
              "       [ 65,  63],\n",
              "       [ 19,  63],\n",
              "       [ 38,  64],\n",
              "       [ 19,  64],\n",
              "       [ 18,  65],\n",
              "       [ 19,  65],\n",
              "       [ 63,  65],\n",
              "       [ 49,  65],\n",
              "       [ 51,  67],\n",
              "       [ 50,  67],\n",
              "       [ 27,  67],\n",
              "       [ 38,  67],\n",
              "       [ 40,  69],\n",
              "       [ 39,  69],\n",
              "       [ 23,  70],\n",
              "       [ 31,  70],\n",
              "       [ 43,  71],\n",
              "       [ 40,  71],\n",
              "       [ 59,  71],\n",
              "       [ 38,  71],\n",
              "       [ 47,  71],\n",
              "       [ 39,  71],\n",
              "       [ 25,  72],\n",
              "       [ 31,  72],\n",
              "       [ 20,  73],\n",
              "       [ 29,  73],\n",
              "       [ 44,  73],\n",
              "       [ 32,  73],\n",
              "       [ 19,  74],\n",
              "       [ 35,  74],\n",
              "       [ 57,  75],\n",
              "       [ 32,  75],\n",
              "       [ 28,  76],\n",
              "       [ 32,  76],\n",
              "       [ 25,  77],\n",
              "       [ 28,  77],\n",
              "       [ 48,  77],\n",
              "       [ 32,  77],\n",
              "       [ 34,  78],\n",
              "       [ 34,  78],\n",
              "       [ 43,  78],\n",
              "       [ 39,  78],\n",
              "       [ 44,  78],\n",
              "       [ 38,  78],\n",
              "       [ 47,  78],\n",
              "       [ 27,  78],\n",
              "       [ 37,  78],\n",
              "       [ 30,  78],\n",
              "       [ 34,  78],\n",
              "       [ 30,  78],\n",
              "       [ 56,  79],\n",
              "       [ 29,  79],\n",
              "       [ 19,  81],\n",
              "       [ 31,  81],\n",
              "       [ 50,  85],\n",
              "       [ 36,  85],\n",
              "       [ 42,  86],\n",
              "       [ 33,  86],\n",
              "       [ 36,  87],\n",
              "       [ 32,  87],\n",
              "       [ 40,  87],\n",
              "       [ 28,  87],\n",
              "       [ 36,  87],\n",
              "       [ 36,  87],\n",
              "       [ 52,  88],\n",
              "       [ 30,  88],\n",
              "       [ 58,  88],\n",
              "       [ 27,  88],\n",
              "       [ 59,  93],\n",
              "       [ 35,  93],\n",
              "       [ 37,  97],\n",
              "       [ 32,  97],\n",
              "       [ 46,  98],\n",
              "       [ 29,  98],\n",
              "       [ 41,  99],\n",
              "       [ 30,  99],\n",
              "       [ 54, 101],\n",
              "       [ 28, 101],\n",
              "       [ 41, 103],\n",
              "       [ 36, 103],\n",
              "       [ 34, 103],\n",
              "       [ 32, 103],\n",
              "       [ 33, 113],\n",
              "       [ 38, 113],\n",
              "       [ 47, 120],\n",
              "       [ 35, 120],\n",
              "       [ 45, 126],\n",
              "       [ 32, 126],\n",
              "       [ 32, 137],\n",
              "       [ 30, 137]])"
            ]
          },
          "metadata": {},
          "execution_count": 19
        }
      ]
    },
    {
      "cell_type": "code",
      "source": [
        "from sklearn.model_selection import train_test_split\n",
        "X_train, X_test, y_train, y_test = train_test_split(X, y, test_size = 0.25, random_state = 0)"
      ],
      "metadata": {
        "id": "WuGlHUYkQAk-"
      },
      "execution_count": 20,
      "outputs": []
    },
    {
      "cell_type": "code",
      "source": [
        "y_test"
      ],
      "metadata": {
        "colab": {
          "base_uri": "https://localhost:8080/"
        },
        "id": "daT00v0XQE5t",
        "outputId": "123fa942-73fe-4564-f91e-573147b25cac"
      },
      "execution_count": 21,
      "outputs": [
        {
          "output_type": "execute_result",
          "data": {
            "text/plain": [
              "array([1, 1, 1, 1, 1, 1, 0, 1, 0, 0, 1, 0, 0, 0, 1, 0, 1, 1, 0, 1, 0, 1,\n",
              "       0, 0, 1, 1, 1, 1, 0, 0, 0, 1, 1, 0, 0, 0, 1, 0, 0, 0, 1, 0, 0, 1,\n",
              "       0, 0, 1, 1, 0, 0])"
            ]
          },
          "metadata": {},
          "execution_count": 21
        }
      ]
    },
    {
      "cell_type": "code",
      "source": [
        "from sklearn.preprocessing import StandardScaler\n",
        "sc = StandardScaler()\n",
        "X_train = sc.fit_transform(X_train)\n",
        "X_test = sc.transform(X_test)"
      ],
      "metadata": {
        "id": "HKJRaHQWQKYG"
      },
      "execution_count": 22,
      "outputs": []
    },
    {
      "cell_type": "code",
      "source": [
        "X_train"
      ],
      "metadata": {
        "colab": {
          "base_uri": "https://localhost:8080/"
        },
        "id": "wZzR_3hKQPnP",
        "outputId": "6ef45a4c-fcf0-4f4f-9e1b-6210f346b8cb"
      },
      "execution_count": 23,
      "outputs": [
        {
          "output_type": "execute_result",
          "data": {
            "text/plain": [
              "array([[ 0.59131873, -0.44803883],\n",
              "       [-1.10084935,  0.34173303],\n",
              "       [ 0.16827671,  1.43237037],\n",
              "       [-0.81882133, -0.03434881],\n",
              "       [-0.32527231,  0.6425985 ],\n",
              "       [ 1.08486776, -1.23781069],\n",
              "       [ 1.50790978, -1.16259433],\n",
              "       [ 1.22588177,  0.68020669],\n",
              "       [ 1.8604448 , -0.86172885],\n",
              "       [ 0.87334675, -0.63607975],\n",
              "       [ 0.02726271,  0.37934122],\n",
              "       [ 0.59131873, -0.03434881],\n",
              "       [-0.46628632,  1.357154  ],\n",
              "       [-0.25476531, -1.42585161],\n",
              "       [-0.0432443 ,  0.6425985 ],\n",
              "       [ 0.66182574, -0.03434881],\n",
              "       [ 0.80283975, -0.67368793],\n",
              "       [-0.53679332,  0.75542305],\n",
              "       [-0.39577931, -0.71129612],\n",
              "       [ 1.15537476, -0.14717336],\n",
              "       [-0.25476531,  0.49216577],\n",
              "       [ 2.07196581, -0.07195699],\n",
              "       [-0.46628632,  0.45455758],\n",
              "       [ 0.73233274,  0.04086756],\n",
              "       [-0.95983534,  0.60499032],\n",
              "       [ 0.80283975, -0.10956518],\n",
              "       [ 1.9309518 ,  0.07847574],\n",
              "       [-0.1137513 , -1.53867617],\n",
              "       [-0.25476531, -1.23781069],\n",
              "       [-0.46628632,  0.52977395],\n",
              "       [-0.74831433,  1.50758673],\n",
              "       [ 0.80283975, -0.78651249],\n",
              "       [-1.38287736,  0.49216577],\n",
              "       [-0.25476531,  2.22214223],\n",
              "       [ 2.07196581,  0.07847574],\n",
              "       [ 2.0014588 , -0.5232552 ],\n",
              "       [-1.31237036, -1.6891089 ],\n",
              "       [ 1.01436076, -0.56086338],\n",
              "       [ 0.37979772,  0.45455758],\n",
              "       [-0.46628632,  2.44779133],\n",
              "       [-0.53679332, -0.82412067],\n",
              "       [ 2.0014588 , -1.57628435],\n",
              "       [ 0.59131873,  2.22214223],\n",
              "       [ 1.50790978, -0.41043065],\n",
              "       [ 0.45030473,  2.44779133],\n",
              "       [ 1.43740278,  1.20672126],\n",
              "       [-0.60730032,  1.01868034],\n",
              "       [ 0.30929072,  0.37934122],\n",
              "       [ 0.09776971, -0.03434881],\n",
              "       [-0.0432443 ,  0.11608393],\n",
              "       [-0.32527231,  0.6425985 ],\n",
              "       [-0.46628632,  1.5828031 ],\n",
              "       [ 0.73233274, -0.71129612],\n",
              "       [-1.38287736, -1.72671709],\n",
              "       [-0.46628632, -0.03434881],\n",
              "       [ 1.8604448 ,  0.07847574],\n",
              "       [-1.03034234, -0.03434881],\n",
              "       [ 1.71943079, -0.48564702],\n",
              "       [-0.39577931,  0.94346397],\n",
              "       [-1.03034234, -0.86172885],\n",
              "       [-0.46628632, -0.48564702],\n",
              "       [-0.53679332, -0.78651249],\n",
              "       [-0.67780733, -0.78651249],\n",
              "       [ 0.66182574, -0.25999791],\n",
              "       [-1.03034234, -1.53867617],\n",
              "       [-0.67780733,  0.68020669],\n",
              "       [-0.53679332, -1.35063525],\n",
              "       [ 1.08486776,  1.50758673],\n",
              "       [-0.67780733,  0.45455758],\n",
              "       [-0.25476531, -1.38824343],\n",
              "       [-1.17135635, -1.53867617],\n",
              "       [-1.10084935, -0.25999791],\n",
              "       [ 0.73233274,  0.04086756],\n",
              "       [-0.53679332, -0.67368793],\n",
              "       [-1.10084935,  0.04086756],\n",
              "       [ 0.45030473, -0.25999791],\n",
              "       [-1.10084935, -1.6891089 ],\n",
              "       [ 1.71943079,  0.15369211],\n",
              "       [ 0.80283975,  0.90585579],\n",
              "       [-0.46628632,  2.86148135],\n",
              "       [-0.25476531, -1.61389253],\n",
              "       [-1.38287736, -0.48564702],\n",
              "       [-1.24186335, -0.25999791],\n",
              "       [-0.0432443 ,  0.22890848],\n",
              "       [-0.81882133,  0.6425985 ],\n",
              "       [-0.74831433,  0.98107216],\n",
              "       [-0.1137513 ,  0.6425985 ],\n",
              "       [-1.45338436, -0.07195699],\n",
              "       [-0.60730032,  2.86148135],\n",
              "       [-0.25476531, -1.57628435],\n",
              "       [ 0.80283975,  0.22890848],\n",
              "       [ 2.0014588 ,  0.04086756],\n",
              "       [-1.24186335, -1.04976977],\n",
              "       [ 2.14247281, -0.63607975],\n",
              "       [-1.45338436, -0.48564702],\n",
              "       [-1.24186335, -1.72671709],\n",
              "       [-0.81882133,  0.22890848],\n",
              "       [-1.38287736,  0.75542305],\n",
              "       [ 0.66182574, -0.82412067],\n",
              "       [-1.24186335,  0.04086756],\n",
              "       [-0.95983534,  0.4169494 ],\n",
              "       [-0.1842583 ,  0.98107216],\n",
              "       [-1.31237036, -1.50106798],\n",
              "       [-0.1842583 , -0.89933704],\n",
              "       [-0.53679332,  0.4169494 ],\n",
              "       [ 1.43740278, -0.67368793],\n",
              "       [-0.60730032,  0.6425985 ],\n",
              "       [ 1.43740278,  0.37934122],\n",
              "       [ 0.73233274, -1.04976977],\n",
              "       [ 0.09776971, -1.20020251],\n",
              "       [-1.45338436,  0.15369211],\n",
              "       [ 0.02726271,  0.6425985 ],\n",
              "       [-1.24186335, -1.16259433],\n",
              "       [ 0.23878372,  0.94346397],\n",
              "       [ 0.09776971,  0.37934122],\n",
              "       [ 1.36689577,  1.01868034],\n",
              "       [ 1.01436076, -1.04976977],\n",
              "       [-0.74831433,  0.56738213],\n",
              "       [-0.46628632,  0.98107216],\n",
              "       [-0.46628632,  0.60499032],\n",
              "       [-1.10084935, -1.20020251],\n",
              "       [-1.31237036,  0.00325938],\n",
              "       [ 2.0014588 , -0.25999791],\n",
              "       [ 0.73233274, -0.25999791],\n",
              "       [-1.38287736,  0.15369211],\n",
              "       [-0.32527231,  0.6425985 ],\n",
              "       [-0.0432443 ,  1.95888494],\n",
              "       [ 1.50790978, -0.41043065],\n",
              "       [ 0.09776971, -0.25999791],\n",
              "       [-0.67780733, -1.23781069],\n",
              "       [-0.1842583 ,  0.90585579],\n",
              "       [-0.0432443 , -0.25999791],\n",
              "       [ 0.16827671,  1.5828031 ],\n",
              "       [ 0.94385375,  1.01868034],\n",
              "       [-0.32527231,  1.5828031 ],\n",
              "       [-1.31237036, -0.89933704],\n",
              "       [-0.81882133, -0.56086338],\n",
              "       [ 1.29638877,  0.52977395],\n",
              "       [-0.32527231, -0.10956518],\n",
              "       [ 2.21297981, -0.44803883],\n",
              "       [-1.17135635, -0.14717336],\n",
              "       [ 0.23878372, -1.01216159],\n",
              "       [-0.95983534, -1.38824343],\n",
              "       [-0.60730032, -1.57628435],\n",
              "       [-0.88932834,  0.04086756],\n",
              "       [ 2.07196581, -0.48564702],\n",
              "       [-0.39577931,  1.95888494],\n",
              "       [ 0.73233274,  0.15369211],\n",
              "       [-0.81882133, -0.78651249],\n",
              "       [-0.1842583 ,  0.98107216]])"
            ]
          },
          "metadata": {},
          "execution_count": 23
        }
      ]
    },
    {
      "cell_type": "code",
      "source": [
        "y_test"
      ],
      "metadata": {
        "colab": {
          "base_uri": "https://localhost:8080/"
        },
        "id": "hjnIf5D3QTU9",
        "outputId": "c88932b6-53bc-4f26-bd38-30b1afab91c1"
      },
      "execution_count": 24,
      "outputs": [
        {
          "output_type": "execute_result",
          "data": {
            "text/plain": [
              "array([1, 1, 1, 1, 1, 1, 0, 1, 0, 0, 1, 0, 0, 0, 1, 0, 1, 1, 0, 1, 0, 1,\n",
              "       0, 0, 1, 1, 1, 1, 0, 0, 0, 1, 1, 0, 0, 0, 1, 0, 0, 0, 1, 0, 0, 1,\n",
              "       0, 0, 1, 1, 0, 0])"
            ]
          },
          "metadata": {},
          "execution_count": 24
        }
      ]
    },
    {
      "cell_type": "code",
      "source": [
        "from sklearn.naive_bayes import GaussianNB\n",
        "classifier = GaussianNB()\n",
        "classifier.fit(X_train, y_train)"
      ],
      "metadata": {
        "colab": {
          "base_uri": "https://localhost:8080/",
          "height": 74
        },
        "id": "yZMawojAQZ0m",
        "outputId": "48f90318-fd78-4ad3-c22f-d187fbc9ff28"
      },
      "execution_count": 25,
      "outputs": [
        {
          "output_type": "execute_result",
          "data": {
            "text/plain": [
              "GaussianNB()"
            ],
            "text/html": [
              "<style>#sk-container-id-1 {color: black;background-color: white;}#sk-container-id-1 pre{padding: 0;}#sk-container-id-1 div.sk-toggleable {background-color: white;}#sk-container-id-1 label.sk-toggleable__label {cursor: pointer;display: block;width: 100%;margin-bottom: 0;padding: 0.3em;box-sizing: border-box;text-align: center;}#sk-container-id-1 label.sk-toggleable__label-arrow:before {content: \"▸\";float: left;margin-right: 0.25em;color: #696969;}#sk-container-id-1 label.sk-toggleable__label-arrow:hover:before {color: black;}#sk-container-id-1 div.sk-estimator:hover label.sk-toggleable__label-arrow:before {color: black;}#sk-container-id-1 div.sk-toggleable__content {max-height: 0;max-width: 0;overflow: hidden;text-align: left;background-color: #f0f8ff;}#sk-container-id-1 div.sk-toggleable__content pre {margin: 0.2em;color: black;border-radius: 0.25em;background-color: #f0f8ff;}#sk-container-id-1 input.sk-toggleable__control:checked~div.sk-toggleable__content {max-height: 200px;max-width: 100%;overflow: auto;}#sk-container-id-1 input.sk-toggleable__control:checked~label.sk-toggleable__label-arrow:before {content: \"▾\";}#sk-container-id-1 div.sk-estimator input.sk-toggleable__control:checked~label.sk-toggleable__label {background-color: #d4ebff;}#sk-container-id-1 div.sk-label input.sk-toggleable__control:checked~label.sk-toggleable__label {background-color: #d4ebff;}#sk-container-id-1 input.sk-hidden--visually {border: 0;clip: rect(1px 1px 1px 1px);clip: rect(1px, 1px, 1px, 1px);height: 1px;margin: -1px;overflow: hidden;padding: 0;position: absolute;width: 1px;}#sk-container-id-1 div.sk-estimator {font-family: monospace;background-color: #f0f8ff;border: 1px dotted black;border-radius: 0.25em;box-sizing: border-box;margin-bottom: 0.5em;}#sk-container-id-1 div.sk-estimator:hover {background-color: #d4ebff;}#sk-container-id-1 div.sk-parallel-item::after {content: \"\";width: 100%;border-bottom: 1px solid gray;flex-grow: 1;}#sk-container-id-1 div.sk-label:hover label.sk-toggleable__label {background-color: #d4ebff;}#sk-container-id-1 div.sk-serial::before {content: \"\";position: absolute;border-left: 1px solid gray;box-sizing: border-box;top: 0;bottom: 0;left: 50%;z-index: 0;}#sk-container-id-1 div.sk-serial {display: flex;flex-direction: column;align-items: center;background-color: white;padding-right: 0.2em;padding-left: 0.2em;position: relative;}#sk-container-id-1 div.sk-item {position: relative;z-index: 1;}#sk-container-id-1 div.sk-parallel {display: flex;align-items: stretch;justify-content: center;background-color: white;position: relative;}#sk-container-id-1 div.sk-item::before, #sk-container-id-1 div.sk-parallel-item::before {content: \"\";position: absolute;border-left: 1px solid gray;box-sizing: border-box;top: 0;bottom: 0;left: 50%;z-index: -1;}#sk-container-id-1 div.sk-parallel-item {display: flex;flex-direction: column;z-index: 1;position: relative;background-color: white;}#sk-container-id-1 div.sk-parallel-item:first-child::after {align-self: flex-end;width: 50%;}#sk-container-id-1 div.sk-parallel-item:last-child::after {align-self: flex-start;width: 50%;}#sk-container-id-1 div.sk-parallel-item:only-child::after {width: 0;}#sk-container-id-1 div.sk-dashed-wrapped {border: 1px dashed gray;margin: 0 0.4em 0.5em 0.4em;box-sizing: border-box;padding-bottom: 0.4em;background-color: white;}#sk-container-id-1 div.sk-label label {font-family: monospace;font-weight: bold;display: inline-block;line-height: 1.2em;}#sk-container-id-1 div.sk-label-container {text-align: center;}#sk-container-id-1 div.sk-container {/* jupyter's `normalize.less` sets `[hidden] { display: none; }` but bootstrap.min.css set `[hidden] { display: none !important; }` so we also need the `!important` here to be able to override the default hidden behavior on the sphinx rendered scikit-learn.org. See: https://github.com/scikit-learn/scikit-learn/issues/21755 */display: inline-block !important;position: relative;}#sk-container-id-1 div.sk-text-repr-fallback {display: none;}</style><div id=\"sk-container-id-1\" class=\"sk-top-container\"><div class=\"sk-text-repr-fallback\"><pre>GaussianNB()</pre><b>In a Jupyter environment, please rerun this cell to show the HTML representation or trust the notebook. <br />On GitHub, the HTML representation is unable to render, please try loading this page with nbviewer.org.</b></div><div class=\"sk-container\" hidden><div class=\"sk-item\"><div class=\"sk-estimator sk-toggleable\"><input class=\"sk-toggleable__control sk-hidden--visually\" id=\"sk-estimator-id-1\" type=\"checkbox\" checked><label for=\"sk-estimator-id-1\" class=\"sk-toggleable__label sk-toggleable__label-arrow\">GaussianNB</label><div class=\"sk-toggleable__content\"><pre>GaussianNB()</pre></div></div></div></div></div>"
            ]
          },
          "metadata": {},
          "execution_count": 25
        }
      ]
    },
    {
      "cell_type": "code",
      "source": [
        "y_pred = classifier.predict(X_test)"
      ],
      "metadata": {
        "id": "MfoG37uAQdkv"
      },
      "execution_count": 26,
      "outputs": []
    },
    {
      "cell_type": "code",
      "source": [
        "y_pred"
      ],
      "metadata": {
        "colab": {
          "base_uri": "https://localhost:8080/"
        },
        "id": "xdIhb4m4QjmP",
        "outputId": "d13abb55-9d43-4a7e-a163-1093db5573a6"
      },
      "execution_count": 27,
      "outputs": [
        {
          "output_type": "execute_result",
          "data": {
            "text/plain": [
              "array([0, 0, 0, 0, 0, 0, 0, 0, 1, 0, 0, 0, 0, 0, 0, 0, 0, 0, 0, 0, 0, 0,\n",
              "       0, 0, 1, 0, 0, 0, 0, 0, 0, 0, 0, 0, 0, 0, 0, 0, 0, 1, 0, 0, 0, 0,\n",
              "       0, 0, 1, 0, 0, 0])"
            ]
          },
          "metadata": {},
          "execution_count": 27
        }
      ]
    },
    {
      "cell_type": "code",
      "source": [
        "y_test"
      ],
      "metadata": {
        "colab": {
          "base_uri": "https://localhost:8080/"
        },
        "id": "j1T6TNoRQqOD",
        "outputId": "31aaf236-0bed-4c15-f12b-fffe364e6f64"
      },
      "execution_count": 28,
      "outputs": [
        {
          "output_type": "execute_result",
          "data": {
            "text/plain": [
              "array([1, 1, 1, 1, 1, 1, 0, 1, 0, 0, 1, 0, 0, 0, 1, 0, 1, 1, 0, 1, 0, 1,\n",
              "       0, 0, 1, 1, 1, 1, 0, 0, 0, 1, 1, 0, 0, 0, 1, 0, 0, 0, 1, 0, 0, 1,\n",
              "       0, 0, 1, 1, 0, 0])"
            ]
          },
          "metadata": {},
          "execution_count": 28
        }
      ]
    },
    {
      "cell_type": "code",
      "source": [
        "from sklearn.metrics import confusion_matrix\n",
        "cm = confusion_matrix(y_test, y_pred)\n",
        "print(cm)"
      ],
      "metadata": {
        "colab": {
          "base_uri": "https://localhost:8080/"
        },
        "id": "agghn9yBQvGv",
        "outputId": "ad3aa188-4734-4ed1-cb83-7c3f6dc1f0da"
      },
      "execution_count": 29,
      "outputs": [
        {
          "output_type": "stream",
          "name": "stdout",
          "text": [
            "[[24  2]\n",
            " [22  2]]\n"
          ]
        }
      ]
    },
    {
      "cell_type": "code",
      "source": [
        "import seaborn as sns\n",
        "import matplotlib.pyplot as plt\n",
        "f, ax = plt.subplots(figsize=(8,5))\n",
        "sns.heatmap(confusion_matrix(y_test, y_pred), annot=True, fmt=\".0f\", ax=ax)\n",
        "plt.xlabel(\"y_pred\")\n",
        "plt.ylabel(\"y_true\")\n",
        "plt.show()"
      ],
      "metadata": {
        "colab": {
          "base_uri": "https://localhost:8080/",
          "height": 465
        },
        "id": "zUOR2sQJRG6_",
        "outputId": "4d73696e-dc0b-4700-91af-89990e64b83c"
      },
      "execution_count": 30,
      "outputs": [
        {
          "output_type": "display_data",
          "data": {
            "text/plain": [
              "<Figure size 800x500 with 2 Axes>"
            ],
            "image/png": "[encoded data removed]"
          },
          "metadata": {}
        }
      ]
    },
    {
      "cell_type": "code",
      "source": [
        "from sklearn.metrics import classification_report\n",
        "print (classification_report(y_test, y_pred))"
      ],
      "metadata": {
        "colab": {
          "base_uri": "https://localhost:8080/"
        },
        "id": "pPxpufSORNxR",
        "outputId": "056fa358-b93c-413c-e4b9-bef3550b47a9"
      },
      "execution_count": 31,
      "outputs": [
        {
          "output_type": "stream",
          "name": "stdout",
          "text": [
            "              precision    recall  f1-score   support\n",
            "\n",
            "           0       0.52      0.92      0.67        26\n",
            "           1       0.50      0.08      0.14        24\n",
            "\n",
            "    accuracy                           0.52        50\n",
            "   macro avg       0.51      0.50      0.40        50\n",
            "weighted avg       0.51      0.52      0.42        50\n",
            "\n"
          ]
        }
      ]
    },
    {
      "cell_type": "code",
      "source": [
        "from matplotlib.colors import ListedColormap\n",
        "X_set, y_set = X_train, y_train\n",
        "X1, X2 = np.meshgrid(np.arange(start = X_set[:, 0].min() - 1, stop = X_set[:, 0].max() + 1, step = 0.01),\n",
        "                     np.arange(start = X_set[:, 1].min() - 1, stop = X_set[:, 1].max() + 1, step = 0.01))\n",
        "plt.contourf(X1, X2, classifier.predict(np.array([X1.ravel(), X2.ravel()]).T).reshape(X1.shape),\n",
        "             alpha = 0.75, cmap = ListedColormap(('red', 'green')))\n",
        "plt.xlim(X1.min(), X1.max())\n",
        "plt.ylim(X2.min(), X2.max())\n",
        "for i, j in enumerate(np.unique(y_set)):\n",
        "    plt.scatter(X_set[y_set == j, 0], X_set[y_set == j, 1],\n",
        "                c = ListedColormap(('red', 'green'))(i), label = j)\n",
        "plt.title('Naive Bayes (Training set)')\n",
        "plt.xlabel('Age')\n",
        "plt.ylabel('Income')\n",
        "plt.legend()\n",
        "plt.show()"
      ],
      "metadata": {
        "id": "xiUo29CGd6Wb",
        "outputId": "5a4af8b2-b904-44e4-b890-74d6f145b8b4",
        "colab": {
          "base_uri": "https://localhost:8080/",
          "height": 527
        }
      },
      "execution_count": 34,
      "outputs": [
        {
          "output_type": "stream",
          "name": "stderr",
          "text": [
            "<ipython-input-34-fa2cd016aa6b>:10: UserWarning: *c* argument looks like a single numeric RGB or RGBA sequence, which should be avoided as value-mapping will have precedence in case its length matches with *x* & *y*.  Please use the *color* keyword-argument or provide a 2D array with a single row if you intend to specify the same RGB or RGBA value for all points.\n",
            "  plt.scatter(X_set[y_set == j, 0], X_set[y_set == j, 1],\n"
          ]
        },
        {
          "output_type": "display_data",
          "data": {
            "text/plain": [
              "<Figure size 640x480 with 1 Axes>"
            ],
            "image/png": "[encoded data removed]"
          },
          "metadata": {}
        }
      ]
    },
    {
      "cell_type": "code",
      "source": [
        "from matplotlib.colors import ListedColormap\n",
        "X_set, y_set = X_test, y_test\n",
        "X1, X2 = np.meshgrid(np.arange(start = X_set[:, 0].min() - 1, stop = X_set[:, 0].max() + 1, step = 0.01),\n",
        "                     np.arange(start = X_set[:, 1].min() - 1, stop = X_set[:, 1].max() + 1, step = 0.01))\n",
        "plt.contourf(X1, X2, classifier.predict(np.array([X1.ravel(), X2.ravel()]).T).reshape(X1.shape),\n",
        "             alpha = 0.75, cmap = ListedColormap(('red', 'green')))\n",
        "plt.xlim(X1.min(), X1.max())\n",
        "plt.ylim(X2.min(), X2.max())\n",
        "for i, j in enumerate(np.unique(y_set)):\n",
        "    plt.scatter(X_set[y_set == j, 0], X_set[y_set == j, 1],\n",
        "                c = ListedColormap(('red', 'green'))(i), label = j)\n",
        "plt.title('Naive Bayes (Test set)')\n",
        "plt.xlabel('Age')\n",
        "plt.ylabel('Income')\n",
        "plt.legend()\n",
        "plt.show()"
      ],
      "metadata": {
        "id": "eXR8OosxeDak",
        "outputId": "b90014c4-fa4c-4164-d626-6cadfd73c902",
        "colab": {
          "base_uri": "https://localhost:8080/",
          "height": 527
        }
      },
      "execution_count": 35,
      "outputs": [
        {
          "output_type": "stream",
          "name": "stderr",
          "text": [
            "<ipython-input-35-a36dae0f6869>:10: UserWarning: *c* argument looks like a single numeric RGB or RGBA sequence, which should be avoided as value-mapping will have precedence in case its length matches with *x* & *y*.  Please use the *color* keyword-argument or provide a 2D array with a single row if you intend to specify the same RGB or RGBA value for all points.\n",
            "  plt.scatter(X_set[y_set == j, 0], X_set[y_set == j, 1],\n"
          ]
        },
        {
          "output_type": "display_data",
          "data": {
            "text/plain": [
              "<Figure size 640x480 with 1 Axes>"
            ],
            "image/png": "[encoded data removed]"
          },
          "metadata": {}
        }
      ]
    }
  ],
  "metadata": {
    "colab": {
      "name": "Welcome To Colaboratory",
      "provenance": []
    },
    "kernelspec": {
      "display_name": "Python 3",
      "name": "python3"
    }
  },
  "nbformat": 4,
  "nbformat_minor": 0
}